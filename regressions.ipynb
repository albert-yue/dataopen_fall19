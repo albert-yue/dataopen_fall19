{
 "cells": [
  {
   "cell_type": "code",
   "execution_count": 168,
   "metadata": {},
   "outputs": [],
   "source": [
    "import os\n",
    "import numpy as np\n",
    "import pandas\n",
    "import matplotlib.pyplot as plt\n",
    "import seaborn as sns\n",
    "import sklearn\n",
    "import statsmodels.api as sm\n",
    "import statsmodels.formula.api as smf\n",
    "import re"
   ]
  },
  {
   "cell_type": "code",
   "execution_count": 40,
   "metadata": {},
   "outputs": [],
   "source": [
    "labor_stats_df = pandas.read_csv('data/labor_market_statistics.csv')\n",
    "labor_legend = pandas.read_csv('data/code_legends/labor_market_stats_legend.csv')\n",
    "labor_legend = labor_legend[['Title', 'CDID']]"
   ]
  },
  {
   "cell_type": "code",
   "execution_count": 105,
   "metadata": {
    "scrolled": true
   },
   "outputs": [],
   "source": [
    "immigration_stats_df = pandas.read_csv('data/immigrant_statistics.csv')\n",
    "col_list = list(immigration_stats_df)\n",
    "col_list.remove('Year')\n",
    "col_list.remove('Quarter')\n",
    "for col in col_list:\n",
    "    res = immigration_stats_df[col].map(lambda s: re.sub(r'[a-zA-Z,]', '', str(s)))\n",
    "    immigration_stats_df[col] = res.map(lambda s: '0' if len(str(s)) == 0 else s)\n",
    "immigration_stats_df = immigration_stats_df.astype({col: 'int64' for col in col_list})\n",
    "immigration_stats_legend = pandas.read_csv('data/code_legends/immigrant_legend.csv')\n",
    "immigration_stats_df = immigration_stats_df.rename(columns={'AFN.1': 'AMN'})\n",
    "immigration_stats_legend = immigration_stats_legend.replace('AFN.1', 'AMN')"
   ]
  },
  {
   "cell_type": "code",
   "execution_count": 95,
   "metadata": {
    "scrolled": true
   },
   "outputs": [
    {
     "data": {
      "text/html": [
       "<div>\n",
       "<style scoped>\n",
       "    .dataframe tbody tr th:only-of-type {\n",
       "        vertical-align: middle;\n",
       "    }\n",
       "\n",
       "    .dataframe tbody tr th {\n",
       "        vertical-align: top;\n",
       "    }\n",
       "\n",
       "    .dataframe thead th {\n",
       "        text-align: right;\n",
       "    }\n",
       "</style>\n",
       "<table border=\"1\" class=\"dataframe\">\n",
       "  <thead>\n",
       "    <tr style=\"text-align: right;\">\n",
       "      <th></th>\n",
       "      <th>Code</th>\n",
       "      <th>Geographical region</th>\n",
       "      <th>Country of nationality</th>\n",
       "    </tr>\n",
       "  </thead>\n",
       "  <tbody>\n",
       "    <tr>\n",
       "      <td>0</td>\n",
       "      <td>AFN</td>\n",
       "      <td>Africa North</td>\n",
       "      <td>Total Africa North</td>\n",
       "    </tr>\n",
       "    <tr>\n",
       "      <td>1</td>\n",
       "      <td>AFS</td>\n",
       "      <td>Africa Sub-Saharan</td>\n",
       "      <td>Total Africa Sub-Saharan</td>\n",
       "    </tr>\n",
       "    <tr>\n",
       "      <td>2</td>\n",
       "      <td>AMN</td>\n",
       "      <td>America North</td>\n",
       "      <td>Total America North</td>\n",
       "    </tr>\n",
       "    <tr>\n",
       "      <td>3</td>\n",
       "      <td>ACS</td>\n",
       "      <td>America Central and South</td>\n",
       "      <td>Total America Central and South</td>\n",
       "    </tr>\n",
       "    <tr>\n",
       "      <td>4</td>\n",
       "      <td>ACE</td>\n",
       "      <td>Asia Central</td>\n",
       "      <td>Total Asia Central</td>\n",
       "    </tr>\n",
       "    <tr>\n",
       "      <td>5</td>\n",
       "      <td>AEA</td>\n",
       "      <td>Asia East</td>\n",
       "      <td>Total Asia East</td>\n",
       "    </tr>\n",
       "    <tr>\n",
       "      <td>6</td>\n",
       "      <td>ASO</td>\n",
       "      <td>Asia South</td>\n",
       "      <td>Total Asia South</td>\n",
       "    </tr>\n",
       "    <tr>\n",
       "      <td>7</td>\n",
       "      <td>ASE</td>\n",
       "      <td>Asia South East</td>\n",
       "      <td>Total Asia South East</td>\n",
       "    </tr>\n",
       "    <tr>\n",
       "      <td>8</td>\n",
       "      <td>EU1</td>\n",
       "      <td>EU 14</td>\n",
       "      <td>Total EU 14</td>\n",
       "    </tr>\n",
       "    <tr>\n",
       "      <td>9</td>\n",
       "      <td>EU2</td>\n",
       "      <td>EU 2</td>\n",
       "      <td>Total EU 2</td>\n",
       "    </tr>\n",
       "    <tr>\n",
       "      <td>10</td>\n",
       "      <td>EU8</td>\n",
       "      <td>EU 8</td>\n",
       "      <td>Total EU 8</td>\n",
       "    </tr>\n",
       "    <tr>\n",
       "      <td>11</td>\n",
       "      <td>EUO</td>\n",
       "      <td>EU Other</td>\n",
       "      <td>Total EU Other</td>\n",
       "    </tr>\n",
       "    <tr>\n",
       "      <td>12</td>\n",
       "      <td>ERO</td>\n",
       "      <td>Europe Other</td>\n",
       "      <td>Total Europe Other</td>\n",
       "    </tr>\n",
       "    <tr>\n",
       "      <td>13</td>\n",
       "      <td>MIE</td>\n",
       "      <td>Middle East</td>\n",
       "      <td>Total Middle East</td>\n",
       "    </tr>\n",
       "    <tr>\n",
       "      <td>14</td>\n",
       "      <td>OCE</td>\n",
       "      <td>Oceania</td>\n",
       "      <td>Total Oceania</td>\n",
       "    </tr>\n",
       "    <tr>\n",
       "      <td>15</td>\n",
       "      <td>OTH</td>\n",
       "      <td>Other</td>\n",
       "      <td>Total Other</td>\n",
       "    </tr>\n",
       "    <tr>\n",
       "      <td>16</td>\n",
       "      <td>ACE-AFG</td>\n",
       "      <td>Asia Central</td>\n",
       "      <td>Afghanistan</td>\n",
       "    </tr>\n",
       "    <tr>\n",
       "      <td>17</td>\n",
       "      <td>ERO-ALB</td>\n",
       "      <td>Europe Other</td>\n",
       "      <td>Albania</td>\n",
       "    </tr>\n",
       "    <tr>\n",
       "      <td>18</td>\n",
       "      <td>AFN-ALG</td>\n",
       "      <td>Africa North</td>\n",
       "      <td>Algeria</td>\n",
       "    </tr>\n",
       "    <tr>\n",
       "      <td>19</td>\n",
       "      <td>OCE-AMS</td>\n",
       "      <td>Oceania</td>\n",
       "      <td>American Samoa</td>\n",
       "    </tr>\n",
       "  </tbody>\n",
       "</table>\n",
       "</div>"
      ],
      "text/plain": [
       "       Code         Geographical region             Country of nationality\n",
       "0       AFN                Africa North                 Total Africa North\n",
       "1       AFS          Africa Sub-Saharan           Total Africa Sub-Saharan\n",
       "2       AMN               America North                Total America North\n",
       "3       ACS  America Central and South   Total America Central and South  \n",
       "4       ACE                Asia Central                 Total Asia Central\n",
       "5       AEA                   Asia East                    Total Asia East\n",
       "6       ASO                  Asia South                   Total Asia South\n",
       "7       ASE             Asia South East              Total Asia South East\n",
       "8       EU1                       EU 14                        Total EU 14\n",
       "9       EU2                        EU 2                         Total EU 2\n",
       "10      EU8                        EU 8                         Total EU 8\n",
       "11      EUO                    EU Other                     Total EU Other\n",
       "12      ERO                Europe Other                 Total Europe Other\n",
       "13      MIE                 Middle East                  Total Middle East\n",
       "14      OCE                     Oceania                      Total Oceania\n",
       "15      OTH                       Other                        Total Other\n",
       "16  ACE-AFG                Asia Central                        Afghanistan\n",
       "17  ERO-ALB                Europe Other                            Albania\n",
       "18  AFN-ALG                Africa North                            Algeria\n",
       "19  OCE-AMS                     Oceania                     American Samoa"
      ]
     },
     "execution_count": 95,
     "metadata": {},
     "output_type": "execute_result"
    }
   ],
   "source": [
    "immigration_stats_legend.head(20)"
   ]
  },
  {
   "cell_type": "code",
   "execution_count": 264,
   "metadata": {},
   "outputs": [
    {
     "name": "stdout",
     "output_type": "stream",
     "text": [
      "{'AFN': ['AFN-ALG', 'AFN-EGP', 'AFN-LBY', 'AFN-MAU', 'AFN-MRC', 'AFN-SUD', 'AFN-TNS', 'AFN-WSH'], 'AFS': ['AFS-ANG', 'AFS-BEN', 'AFS-BTS', 'AFS-BRK', 'AFS-BRD', 'AFS-CMR', 'AFS-CVD', 'AFS-CAR', 'AFS-CHD', 'AFS-COM', 'AFS-CNG', 'AFS-CDR', 'AFS-DJI', 'AFS-EQG', 'AFS-ERT', 'AFS-ETH', 'AFS-GAB', 'AFS-GMB', 'AFS-GHN', 'AFS-GNE', 'AFS-GNB', 'AFS-IVC', 'AFS-KNY', 'AFS-LST', 'AFS-LBR', 'AFS-MDG', 'AFS-MLW', 'AFS-MAL', 'AFS-MRT', 'AFS-MYT', 'AFS-MOZ', 'AFS-NMB', 'AFS-NIG', 'AFS-NGR', 'AFS-REU', 'AFS-RWA', 'AFS-STP', 'AFS-SNG', 'AFS-SCH', 'AFS-SRL', 'AFS-SOM', 'AFS-SAF', 'AFS-SDS', 'AFS-SWZ', 'AFS-TNZ', 'AFS-TOG', 'AFS-UGD', 'AFS-ZMB', 'AFS-ZBW'], 'AMN': ['AMN-CND', 'AMN-PTR', 'AMN-UST', 'AMN-VIU'], 'ACS': ['ACS-AAB', 'ACS-ARG', 'ACS-ARU', 'ACS-BHM', 'ACS-BAR', 'ACS-BLZ', 'ACS-BLV', 'ACS-BSS', 'ACS-BRA', 'ACS-CHL', 'ACS-COL', 'ACS-CTR', 'ACS-CUB', 'ACS-CRC', 'ACS-DMN', 'ACS-DMR', 'ACS-ECD', 'ACS-ESV', 'ACS-FRG', 'ACS-GRN', 'ACS-GDL', 'ACS-GTM', 'ACS-GUY', 'ACS-HAI', 'ACS-HND', 'ACS-JMC', 'ACS-MTQ', 'ACS-MEX', 'ACS-NLA', 'ACS-NIC', 'ACS-PAN', 'ACS-PRG', 'ACS-PER', 'ACS-SKN', 'ACS-SLU', 'ACS-SMD', 'ACS-SMF', 'ACS-SPM', 'ACS-SVG', 'ACS-SRN', 'ACS-TAT', 'ACS-URG', 'ACS-VNZ'], 'ACE': ['ACE-AFG', 'ACE-KHZ', 'ACE-KRG', 'ACE-TJK', 'ACE-TMS', 'ACE-UZB'], 'AEA': ['AEA-CHI', 'AEA-HKO', 'AEA-JAP', 'AEA-KRN', 'AEA-KRS', 'AEA-MAC', 'AEA-MNG', 'AEA-TWN'], 'ASO': ['ASO-BAN', 'ASO-BHU', 'ASO-IND', 'ASO-MDV', 'ASO-NPL', 'ASO-PAK', 'ASO-SLK'], 'ASE': ['ASE-BRN', 'ASE-BRM', 'ASE-CBD', 'ASE-ETM', 'ASE-IDN', 'ASE-LAO', 'ASE-MLS', 'ASE-PLP', 'ASE-SGP', 'ASE-THA', 'ASE-VTN'], 'EU1': ['EU1-AUS', 'EU1-BLG', 'EU1-DEN', 'EU1-FIN', 'EU1-FRA', 'EU1-GER', 'EU1-GRE', 'EU1-IRL', 'EU1-ITA', 'EU1-LXB', 'EU1-NTL', 'EU1-PTG', 'EU1-SPA', 'EU1-SWD'], 'EU2': ['EU2-BLG', 'EU2-RMN'], 'EU8': ['EU8-CZR', 'EU8-EST', 'EU8-HNG', 'EU8-LTV', 'EU8-LIT', 'EU8-POL', 'EU8-SVK', 'EU8-SVN'], 'EUO': ['EUO-CRO', 'EUO-CPR', 'EUO-MLT'], 'ERO': ['ERO-ALB', 'ERO-AND', 'ERO-ARM', 'ERO-AZR', 'ERO-BLA', 'ERO-BAH', 'ERO-CPR', 'ERO-FRI', 'ERO-FYS', 'ERO-GRG', 'ERO-GRL', 'ERO-ICE', 'ERO-KSV', 'ERO-LTS', 'ERO-MCD', 'ERO-MDV', 'ERO-MNC', 'ERO-MNT', 'ERO-NWY', 'ERO-RUS', 'ERO-SMR', 'ERO-SRB', 'ERO-SAM', 'ERO-SJM', 'ERO-SWT', 'ERO-TRK', 'ERO-UKR', 'ERO-VTC'], 'MIE': ['MIE-BHR', 'MIE-IRN', 'MIE-IRQ', 'MIE-ISR', 'MIE-JRD', 'MIE-KUW', 'MIE-LBN', 'MIE-OPT', 'MIE-OMN', 'MIE-QTR', 'MIE-SDA', 'MIE-SYR', 'MIE-UAE', 'MIE-YMN'], 'OCE': ['OCE-AMS', 'OCE-AUS', 'OCE-CIS', 'OCE-CKI', 'OCE-CIS.1', 'OCE-FIJ', 'OCE-FPN', 'OCE-GUA', 'OCE-HIM', 'OCE-KRB', 'OCE-MSI', 'OCE-MCR', 'OCE-NAU', 'OCE-NCD', 'OCE-NZE', 'OCE-NIU', 'OCE-NFI', 'OCE-NMI', 'OCE-PAL', 'OCE-PNG', 'OCE-SAM', 'OCE-SLI', 'OCE-TKL', 'OCE-TNG', 'OCE-TVL', 'OCE-VNT', 'OCE-WAF'], 'OTH': ['OTH-ANG', 'OTH-BRM', 'OTH-BOC', 'OTH-CMI', 'OTH-FIB', 'OTH-GBL', 'OTH-MSR', 'OTH-OUT', 'OTH-PIB', 'OTH-RFG', 'OTH-SGI', 'OTH-SHB', 'OTH-STL', 'OTH-TCI', 'OTH-VIB']}\n",
      "247\n",
      "['AFN', 'AFS', 'AMN', 'ACS', 'ACE', 'AEA', 'ASO', 'ASE', 'EU1', 'EU2', 'EU8', 'EUO', 'ERO', 'MIE', 'OCE', 'OTH']\n"
     ]
    }
   ],
   "source": [
    "set([code[:3] for code in list(immigration_stats_legend['Code'])])\n",
    "region_dict = dict()\n",
    "sub_regions = []\n",
    "for i, region in enumerate(immigration_stats_legend['Code']):\n",
    "    l = region_dict.setdefault(region[:3], [])\n",
    "    if len(region) > 3:\n",
    "        l.append(region)\n",
    "        sub_regions.append(region)\n",
    "print(region_dict)\n",
    "print(len(sub_regions))\n",
    "regions = list(region_dict.keys())\n",
    "print(regions)"
   ]
  },
  {
   "cell_type": "code",
   "execution_count": 108,
   "metadata": {},
   "outputs": [],
   "source": [
    "for index, row in immigration_stats_df.iterrows():\n",
    "    for region in region_dict:\n",
    "        if row[region] != sum(row[region_dict[region]]):\n",
    "            print(region, sum(row[region_dict[region]]), row[region])"
   ]
  },
  {
   "cell_type": "code",
   "execution_count": 272,
   "metadata": {},
   "outputs": [
    {
     "name": "stdout",
     "output_type": "stream",
     "text": [
      "YBZY 0.9677357786119737\n",
      "YBZR 0.9933612523423909\n",
      "YBZT 0.9902791256155608\n",
      "YBZS 0.9870137147824323\n",
      "YBZV 0.9147470290917955\n",
      "YBZU 0.8536890617061904\n",
      "YCAE 0.9579153718160304\n",
      "YCAP 0.8216965205839515\n",
      "YCAO 0.8648506362002428\n",
      "YCAR 0.833882130780605\n",
      "YCAH 0.7356007638524976\n",
      "YCAG 0.8407399112616334\n",
      "AGOM 0.8496361304735716\n",
      "YCAI 0.8891577135935993\n",
      "YCAK 0.835931829709618\n",
      "AGOJ 0.8909215166613192\n",
      "YCAM 0.8214262061657676\n",
      "AGPU 0.7033730131871833\n",
      "AGPR 0.8488924233363733\n",
      "AGPS 0.8696896160015354\n",
      "YCCV 0.9396082850140398\n",
      "YCCU 0.9658129019916083\n",
      "YCCW 0.9548992677387862\n",
      "YCBB 0.9082286124506208\n",
      "YCBD 0.92072796386452\n",
      "YCBG 0.7902780204411258\n",
      "YCAW 0.8309887089512364\n",
      "YCBQ 0.8594279576925711\n",
      "YCBP 0.8456216614844397\n",
      "YCBS 0.9276727654631723\n",
      "YCBR 0.7536452826141672\n",
      "YCBU 0.9129554865324572\n",
      "YCBT 0.9705624955532861\n",
      "YCBV 0.9638685115215531\n",
      "YCBI 0.9137983044287041\n",
      "YCBH 0.9541821300927584\n",
      "YCBJ 0.9492199712505732\n",
      "YCBM 0.7071724181710564\n",
      "YCBO 0.9065199126290302\n",
      "YCBN 0.9138358900691855\n",
      "AGTF 0.7016372001302706\n",
      "LF23 0.9440539995480972\n",
      "LF22 0.8181094928431957\n",
      "LF27 0.9658430333893226\n",
      "LF26 0.9486709995829732\n",
      "AIYO 0.8150677922828673\n",
      "YCDE 0.8563316412144011\n",
      "YCDD 0.7678566735212545\n",
      "AIYL 0.729118737550404\n",
      "JF6H 0.7143361217031203\n",
      "JF6I 0.9398422555886112\n",
      "JF6G 0.9571923903716362\n",
      "AGTO 0.7323477151088125\n",
      "LF2X 0.9778803659759954\n",
      "AIZJ 0.8242843996518195\n",
      "AIZH 0.8904687724374981\n",
      "LF3B 0.9803799712301333\n",
      "LF3A 0.9782477781834127\n",
      "AIZD 0.809176147757399\n",
      "AIZB 0.8221857031237404\n",
      "LF3L 0.7891486001542212\n",
      "AIZA 0.713768001610279\n",
      "LF3I 0.8575777887091675\n",
      "LF3O 0.8018960115839036\n",
      "AIYZ 0.7579837221836255\n",
      "LF3M 0.7036319461503793\n",
      "EU8 0.7063963530002357\n"
     ]
    },
    {
     "data": {
      "text/plain": [
       "<matplotlib.axes._subplots.AxesSubplot at 0x13f4ba550>"
      ]
     },
     "execution_count": 272,
     "metadata": {},
     "output_type": "execute_result"
    },
    {
     "data": {
      "image/png": "[encoded data removed]",
      "text/plain": [
       "<Figure size 432x288 with 1 Axes>"
      ]
     },
     "metadata": {
      "needs_background": "light"
     },
     "output_type": "display_data"
    }
   ],
   "source": [
    "labor_stats_df = pandas.read_csv('data/labor_market_statistics.csv')\n",
    "labor_legend = pandas.read_csv('data/code_legends/labor_market_stats_legend.csv')\n",
    "labor_legend = labor_legend[['Title', 'CDID']]\n",
    "immigration_stats_df = pandas.read_csv('data/immigrant_statistics.csv')\n",
    "col_list = list(immigration_stats_df)\n",
    "col_list.remove('Year')\n",
    "col_list.remove('Quarter')\n",
    "for col in col_list:\n",
    "    res = immigration_stats_df[col].map(lambda s: re.sub(r'[a-zA-Z,]', '', str(s)))\n",
    "    immigration_stats_df[col] = res.map(lambda s: '0' if len(str(s)) == 0 else s)\n",
    "immigration_stats_df = immigration_stats_df.astype({col: 'int64' for col in col_list})\n",
    "immigration_stats_legend = pandas.read_csv('data/code_legends/immigrant_legend.csv')\n",
    "immigration_stats_df = immigration_stats_df.rename(columns={'AFN.1': 'AMN'})\n",
    "immigration_stats_legend = immigration_stats_legend.replace('AFN.1', 'AMN')\n",
    "\n",
    "\n",
    "quarterly_labor_stats = labor_stats_df[labor_stats_df['Month'].isin(['Q1', 'Q2', 'Q3', 'Q4'])]\n",
    "years = range(min(immigration_stats_df['Year']), max(immigration_stats_df['Year'])+1)\n",
    "trimmed_labor_stats = quarterly_labor_stats[quarterly_labor_stats['Year'].isin(years)]\n",
    "shift = 0\n",
    "trimmed_labor_stats = trimmed_labor_stats.iloc[shift:len(immigration_stats_df)+shift, :].reset_index(drop=True)\n",
    "\n",
    "X = sm.add_constant(range(len(immigration_stats_df)))\n",
    "sig_columns = set()\n",
    "for column in trimmed_labor_stats:\n",
    "    if column == 'Year' or column == 'Month':\n",
    "        continue\n",
    "    est = sm.OLS(trimmed_labor_stats[column], X).fit()\n",
    "    if est.rsquared > 0.7:\n",
    "        trimmed_labor_stats[column] = est.resid\n",
    "        sig_columns.add(column)\n",
    "        print(column, est.rsquared)\n",
    "for region in ['EU8']:\n",
    "    est = sm.OLS(immigration_stats_df[region], X).fit()\n",
    "    if est.rsquared > 0.7:\n",
    "#         immigration_stats_df[region] = est.resid\n",
    "        print(region, est.rsquared)\n",
    "sns.regplot(x=np.arange(len(immigration_stats_df)).T, y=immigration_stats_df['EU8'])"
   ]
  },
  {
   "cell_type": "code",
   "execution_count": 266,
   "metadata": {
    "scrolled": false
   },
   "outputs": [
    {
     "name": "stdout",
     "output_type": "stream",
     "text": [
      "0.7673918355731463 7.528613576440866e-16 0.21993817969390675\n",
      "AEA AGOQ ['LFS: Unemployed: Aged 18-24: Not in full-time educ.: UK: Female: 000s: SA']\n",
      "0.7559578780397236 2.2320018740127966e-15 0.2316490246291108\n",
      "AEA AGOR ['LFS: Unemployed: Aged 16-24: Not in full-time educ.: UK: Female: 000s: SA']\n",
      "0.729865301216569 2.2310030698909197e-14 0.3797096581939463\n",
      "AEA AGOO ['LFS: Unemployed: Aged 16-24: Not in full-time education: UK: Male: 000s: SA']\n",
      "0.7429596031011435 7.233143775340405e-15 0.35076672084803734\n",
      "AEA AGON ['LFS: Unemployed: Aged 18-24: Not in full-time education: UK: Male: 000s: SA']\n",
      "0.7672046437837302 7.667004173282715e-16 0.5706592685749771\n",
      "AEA AGOK ['LFS: Unemployed: Aged 18-24: Not in full-time education: UK: All: 000s: SA']\n",
      "0.7513581750274547 3.4072869147253166e-15 0.6112159739546805\n",
      "AEA AGOL ['LFS: Unemployed: Aged 16-24: Not in full-time education: UK: All: 000s: SA']\n",
      "0.7221900289339594 4.211471597620138e-14 -0.017053182572385184\n",
      "AEA AIWN ['LFS: Employment rate: Aged 18-24: Not in full-time education: UK: Female: %: SA']\n",
      "0.7261673375576903 3.0366918722597454e-14 -0.013788954964503138\n",
      "AEA AIWK ['LFS: Employment rate: Aged 18-24: Not in full-time education: UK: Male: %: SA']\n",
      "0.7458655753899682 5.590154978472924e-15 -0.014163631213097239\n",
      "AEA AIWL ['LFS: Employment rate: Aged 16-24: Not in full-time education: UK: Male: %: SA']\n",
      "0.7960889020170396 3.8240451240723044e-17 -0.015521212036039674\n",
      "AEA AIWI ['LFS: Employment rate: Aged 16-24: Not in full-time education: UK: All: %: SA']\n",
      "0.8033680339382228 1.6805344954772283e-17 -0.015461290575225856\n",
      "AEA AIWH ['LFS: Employment rate: Aged 18-24: Not in full-time education: UK: All: %: SA']\n",
      "0.7302765284496092 2.1552517599464176e-14 -2.0431529482520876\n",
      "AEA YCBF ['LFS: In employment: Full-time: UK: Male: 000s: SA']\n",
      "0.7191478781652489 5.391637768951142e-14 -1.6155866587448413\n",
      "AEA YCBL ['LFS: Employees: Full-time: UK: Male: 000s: SA']\n",
      "0.7174560750291157 6.178583823369247e-14 -0.016941874410176132\n",
      "AEA AIWX ['LFS: Employment rate: Aged 16-24: Not in full-time education: UK: Female: %: SA']\n",
      "0.747671731589338 4.755890125231162e-15 -0.008125729807169375\n",
      "AEA LF24 ['Employment rate (aged 16 to 64, seasonally adjusted)']\n",
      "0.7859667234420891 1.144368538398085e-16 0.014607472126566833\n",
      "AEA AIXZ ['LFS: Unemployment rate: Aged 16-24: Not in full-time educ.: UK: Female: %: S']\n",
      "0.7852130254763844 1.239118012698133e-16 0.014376327245066543\n",
      "AEA AIXY ['LFS: Unemployment rate: Aged 18-24: Not in full-time educ.: UK: Female: %: S']\n",
      "0.7535376664375488 2.7911458228237587e-15 0.018634875516533377\n",
      "AEA AIXV ['LFS: Unemployment rate: Aged 18-24: Not in full-time educ.: UK: Male: %: SA']\n",
      "0.7566883000068125 2.0854788408020885e-15 0.019078735726160593\n",
      "AEA AIXW ['LFS: Unemployment rate: Aged 16-24: Not in full-time educ.: UK: Male: %: SA']\n",
      "0.7824388685507021 1.6566905295496124e-16 0.017113390718968922\n",
      "AEA AIXT ['LFS: Unemployment rate: Aged 16-24: Not in full-time educ.: UK: All: %: SA']\n",
      "0.7823557692210373 1.671070897590646e-16 0.016754841578658145\n",
      "AEA AIXS ['LFS: Unemployment rate: Aged 18-24: Not in full-time educ.: UK: All: %: SA']\n",
      "0.7454638332112258 5.793879018216771e-15 0.28565020376561523\n",
      "AEA LF2Z ['LFS: ILO unemployed up to 6 months: UK: Female: Aged 16-64: 000s: SA']\n",
      "0.8021435735277231 1.933848284034834e-17 0.005019804085870748\n",
      "AEA YCGV ['LFS: ILO unemployment rate: Aged 35-49: UK: All: %: SA']\n",
      "0.7398986784223623 9.459110601884845e-15 0.2359782967639015\n",
      "AEA YCGU ['LFS: ILO unemployed: Aged 35-49: UK: Female: 000s: SA']\n",
      "0.7268525553787328 2.868963834533392e-14 0.004256417424349679\n",
      "AEA YCGX ['LFS: ILO unemployment rate: Aged 35-49: UK: Female: %: SA']\n",
      "0.7979295955492062 3.114864696654921e-17 0.0057154757063555325\n",
      "AEA YCGW ['LFS: ILO unemployment rate: Aged 35-49: UK: Male: %: SA']\n",
      "0.7140748779113806 8.092798732632584e-14 -0.00821472919918019\n",
      "AEA LF3T ['LFS: Employment rate: West Midlands: Aged 16-64: All: %: SA']\n",
      "0.7862584864263651 1.1095838403715502e-16 0.31818985185197557\n",
      "AEA YCGN ['LFS: ILO unemployed: Aged 25-34: UK: Male: 000s: SA']\n",
      "0.7014557976526699 2.15657319955589e-13 -0.007091108773875546\n",
      "AEA LF3S ['LFS: Employment rate: East Midlands: Aged 16-64: All: %: SA']\n",
      "0.7716111951322855 4.974049042663877e-16 0.4925469133998113\n",
      "AEA YCGM ['LFS: ILO unemployed: Aged 25-34: UK: All: 000s: SA']\n",
      "0.7616297192746865 1.310310540268893e-15 0.0032291778758049908\n",
      "EU1 YCAO ['LFS: Economic activity rate: UK: Female: Aged 25-34: %: SA']\n",
      "0.7436824430053246 6.785931768429408e-15 0.001770576489758785\n",
      "EU1 YCAM ['LFS: Economic activity rate: UK: All: Aged 25-34: %: SA']\n",
      "0.7712907269663518 5.134487140435995e-16 -0.08161406870871185\n",
      "EU1 YCBA ['LFS: Economically inactive: UK: Female: Aged 25-34: 000s: SA']\n",
      "0.716089899992143 6.893086590750346e-14 0.9171423116962423\n",
      "EU1 YCBG ['LFS: In employment: Full-time: UK: Female: 000s: SA']\n",
      "0.7221656394473943 4.21986566804095e-14 0.7488312814425493\n",
      "EU1 YCBM ['LFS: Employees: Full-time: UK: Female: 000s: SA']\n",
      "0.7036656184506264 1.8218910703336374e-13 0.295123722240339\n",
      "EU1 YCDE ['LFS: Part-time workers: Did not want full-time job: UK: Male: 000s: SA']\n",
      "0.7011437996152479 2.2083191352885438e-13 0.6543475243997707\n",
      "EU1 YCDD ['LFS: Part-time workers: Did not want full-time job: UK: All: 000s: SA']\n",
      "0.773761866609619 4.0149988873988995e-16 0.056844390110833524\n",
      "EU1 YCDI ['LFS: Part-time workers: Ill or disabled: UK: Female: 000s: SA']\n",
      "0.7213247252304096 4.519268315139078e-14 0.9829792329190781\n",
      "EU8 YBZR ['LFS: Economically active: UK: All: Aged 25-34: 000s: SA']\n",
      "0.7253707028714831 3.2434856239643407e-14 0.5113302664941897\n",
      "EU8 YBZT ['LFS: Economically active: UK: Female: Aged 25-34: 000s: SA']\n",
      "0.7100843236891896 1.1083626544343018e-13 0.47188330400468037\n",
      "EU8 YBZS ['LFS: Economically active: UK: Male: Aged 25-34: 000s: SA']\n",
      "0.7108573333802948 1.0432060225674321e-13 0.004104268954855682\n",
      "EU8 YCAO ['LFS: Economic activity rate: UK: Female: Aged 25-34: %: SA']\n",
      "0.7189202859226084 5.4916251342475014e-14 0.00229026564938329\n",
      "EU8 YCAM ['LFS: Economic activity rate: UK: All: Aged 25-34: %: SA']\n",
      "0.7234312184681901 3.8047576712434906e-14 0.004038242604180203\n",
      "EU8 LF23 ['LFS: Economic activity rate: UK: Female: Aged 16-64 (%): SA']\n",
      "0.7156911590512123 7.116099546081558e-14 1.0578388023738916\n",
      "EU8 LF27 ['LFS: In Employment: UK: Female: Aged 50-64: 000s: SA']\n",
      "0.7005946913280259 2.302287926922053e-13 1.8316361072651948\n",
      "EU8 LF26 ['LFS: In Employment: UK: All: Aged 50-64: 000s: SA']\n",
      "0.7292730591732716 2.3445869477613604e-14 -0.01021063174322516\n",
      "EU8 LF2X ['LFS: Economic inactivity rate: UK: Female: Aged 50-64: %: SA']\n",
      "0.7277776180534485 2.6565313174350723e-14 1.0929551018866268\n",
      "EU8 LF3B ['LFS: Economically active: UK: Female: Aged 50-64: 000s: SA']\n",
      "0.7151196629057146 7.447800326537354e-14 1.8239642253917911\n",
      "EU8 LF3A ['LFS: Economically active: UK: All: Aged 50-64: 000s: SA']\n"
     ]
    }
   ],
   "source": [
    "r2s = dict()\n",
    "p_values = dict()\n",
    "sig_cols_new = set()\n",
    "for region in regions:\n",
    "    X = sm.add_constant(immigration_stats_df[region].iloc[:len(trimmed_labor_stats)])\n",
    "    for column in trimmed_labor_stats:\n",
    "        if column == 'Year' or column == 'Month':\n",
    "            continue\n",
    "        r2s.setdefault(region, dict())\n",
    "        p_values.setdefault(region, dict())\n",
    "        try:\n",
    "            est = sm.OLS(trimmed_labor_stats[column], X).fit()\n",
    "        except:\n",
    "            print(column)\n",
    "            continue\n",
    "        if est.rsquared > 0.7:\n",
    "            sig_cols.add(column)\n",
    "            print(est.rsquared, est.pvalues[1], est.params[1])\n",
    "            print(region, column, list(labor_legend[labor_legend['CDID'] == column]['Title']))\n",
    "        r2s[region][column] = float(est.rsquared)\n",
    "        p_values[region][column] = est.pvalues[1]\n",
    "# print(r2s)"
   ]
  },
  {
   "cell_type": "markdown",
   "metadata": {},
   "source": [
    "EU8 YBZR ['LFS: Economically active: UK: All: Aged 25-34: 000s: SA']\n",
    "0.8233306920195209 1.4938168321792108e-18 619.531277828355\n",
    "EU8 YBZT ['LFS: Economically active: UK: Female: Aged 25-34: 000s: SA']\n",
    "0.8168852439332013 3.357898875266522e-18 575.5920202910909\n",
    "EU8 YBZS ['LFS: Economically active: UK: Male: Aged 25-34: 000s: SA']\n",
    "0.8151239314839249 4.169201511414735e-18 -369.206575518685\n",
    "EU8 YBZV ['LFS: Economically active: UK: Male: Aged 35-49: 000s: SA']\n",
    "0.8258635205979536 1.0778510033884235e-18 658.7929880493455\n",
    "EU8 YCCV ['LFS: Part-time workers: UK: Male: 000s: SA']\n",
    "0.8109086989093197 6.940892584406218e-18 1381.7185328660157\n",
    "EU8 YCCU ['LFS: Part-time workers: UK: All: 000s: SA']\n",
    "0.8390525557449304 1.8182893338768103e-19 264.88802634276965\n",
    "EU8 YCBU ['LFS: Self-employed: Part-time: UK: Male: 000s: SA']\n",
    "0.8123337422170291 5.849693033604919e-18 665.3150541027154\n",
    "EU8 YCBT ['LFS: Self-employed: Part-time: UK: All: 000s: SA']\n",
    "0.8305848545012198 5.791470116879639e-19 659.9775381178631\n",
    "EU8 YCBI ['LFS: In employment: Part-time: UK: Male: 000s: SA']\n",
    "0.8212811285394773 1.9387443221718453e-18 1367.1669682821762\n",
    "EU8 YCBH ['LFS: In employment: Part-time: UK: All: 000s: SA']\n"
   ]
  },
  {
   "cell_type": "code",
   "execution_count": 167,
   "metadata": {
    "scrolled": true
   },
   "outputs": [
    {
     "data": {
      "text/plain": [
       "0     224.8\n",
       "1     224.0\n",
       "2     225.6\n",
       "3     226.8\n",
       "4     226.0\n",
       "5     224.4\n",
       "6     220.4\n",
       "7     217.2\n",
       "8     213.2\n",
       "9     208.0\n",
       "10    206.0\n",
       "11    206.0\n",
       "12    204.0\n",
       "13    203.2\n",
       "14    201.6\n",
       "15    196.4\n",
       "16    198.8\n",
       "17    199.6\n",
       "18    196.8\n",
       "19    198.0\n",
       "20    198.4\n",
       "21    201.2\n",
       "22    200.8\n",
       "23    204.0\n",
       "24    201.6\n",
       "25    197.6\n",
       "26    200.8\n",
       "27    203.6\n",
       "28    204.4\n",
       "29    208.8\n",
       "30    210.8\n",
       "31    209.6\n",
       "32    212.4\n",
       "33    215.2\n",
       "34    217.2\n",
       "35    216.4\n",
       "36    218.0\n",
       "37    220.4\n",
       "38    221.6\n",
       "39    222.0\n",
       "40    220.4\n",
       "41    218.4\n",
       "42    218.0\n",
       "43    216.4\n",
       "44    217.2\n",
       "45    215.6\n",
       "46    213.6\n",
       "Name: AIWF, dtype: float64"
      ]
     },
     "execution_count": 167,
     "metadata": {},
     "output_type": "execute_result"
    }
   ],
   "source": [
    "trimmed_labor_stats['AIWF']"
   ]
  },
  {
   "cell_type": "code",
   "execution_count": 274,
   "metadata": {},
   "outputs": [
    {
     "data": {
      "text/plain": [
       "<matplotlib.axes._subplots.AxesSubplot at 0x1311e3310>"
      ]
     },
     "execution_count": 274,
     "metadata": {},
     "output_type": "execute_result"
    },
    {
     "data": {
      "image/png": "[encoded data removed]",
      "text/plain": [
       "<Figure size 432x288 with 1 Axes>"
      ]
     },
     "metadata": {
      "needs_background": "light"
     },
     "output_type": "display_data"
    }
   ],
   "source": [
    "sns.regplot(x=np.log(immigration_stats_df['EU8']),y=trimmed_labor_stats['YCAM']/4)"
   ]
  },
  {
   "cell_type": "code",
   "execution_count": 222,
   "metadata": {},
   "outputs": [
    {
     "name": "stdout",
     "output_type": "stream",
     "text": [
      "['LFS: Economically active: UK: Male: Aged 50-64: 000s: SA'] 0.6972980168948717\n",
      "['LFS: Economically active: UK: All: Aged 25-34: 000s: SA'] 0.8240500782756117\n",
      "['LFS: Economically active: UK: Female: Aged 18-24: 000s: SA'] 0.17359109861588307\n",
      "['LFS: Economically active: UK: Female: Aged 25-34: 000s: SA'] 0.8233306920195209\n",
      "['LFS: Economically active: UK: Male: Aged 25-34: 000s: SA'] 0.8168852439332013\n",
      "['LFS: Economically active: UK: Male: Aged 35-49: 000s: SA'] 0.8151239314839249\n",
      "['LFS: Economically active: UK: All: Aged 35-49: 000s: SA'] 0.7479088231951907\n",
      "['LFS: Economically active: UK: Female: Aged 35-49: 000s: SA'] 0.5490568958920211\n",
      "['LFS: Economically active: UK: Male: Aged 65+: 000s: SA'] 0.7911949129433118\n",
      "['LFS: Economically active: UK: Female: Aged 50-64: 000s: SA'] 0.7510766320416884\n",
      "['LFS: Economically active: UK: All: Aged 50-64: 000s: SA'] 0.7312237878089181\n"
     ]
    }
   ],
   "source": [
    "for id in labor_legend[labor_legend['Title'].str.lower().str.contains('economically active')]['CDID']:\n",
    "    print(list(labor_legend[labor_legend['CDID']==id]['Title']), r2s['EU8'][id])"
   ]
  },
  {
   "cell_type": "code",
   "execution_count": 189,
   "metadata": {},
   "outputs": [
    {
     "data": {
      "text/plain": [
       "3.010724718143304e-08"
      ]
     },
     "execution_count": 189,
     "metadata": {},
     "output_type": "execute_result"
    }
   ],
   "source": [
    "p_values['YBZQ']['EU1']"
   ]
  },
  {
   "cell_type": "code",
   "execution_count": 241,
   "metadata": {},
   "outputs": [
    {
     "data": {
      "text/plain": [
       "{'AGOM',\n",
       " 'LF23',\n",
       " 'LF26',\n",
       " 'LF27',\n",
       " 'LF3A',\n",
       " 'LF3B',\n",
       " 'YBZR',\n",
       " 'YBZS',\n",
       " 'YBZT',\n",
       " 'YBZV',\n",
       " 'YCAM',\n",
       " 'YCAO',\n",
       " 'YCBH',\n",
       " 'YCBI',\n",
       " 'YCBT',\n",
       " 'YCBU',\n",
       " 'YCCU',\n",
       " 'YCCV',\n",
       " 'YCDE'}"
      ]
     },
     "execution_count": 241,
     "metadata": {},
     "output_type": "execute_result"
    }
   ],
   "source": [
    "sig_cols.intersection(sig_columns)"
   ]
  },
  {
   "cell_type": "code",
   "execution_count": null,
   "metadata": {},
   "outputs": [],
   "source": []
  }
 ],
 "metadata": {
  "kernelspec": {
   "display_name": "Python 3",
   "language": "python",
   "name": "python3"
  },
  "language_info": {
   "codemirror_mode": {
    "name": "ipython",
    "version": 3
   },
   "file_extension": ".py",
   "mimetype": "text/x-python",
   "name": "python",
   "nbconvert_exporter": "python",
   "pygments_lexer": "ipython3",
   "version": "3.6.8"
  }
 },
 "nbformat": 4,
 "nbformat_minor": 2
}
