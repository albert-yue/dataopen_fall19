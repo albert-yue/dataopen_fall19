{
 "cells": [
  {
   "cell_type": "markdown",
   "metadata": {},
   "source": [
    "The referendum passed on June 23, 2016, with 52% approval rate in the vote. The official withdrawal process began at March 29, 2017."
   ]
  },
  {
   "cell_type": "code",
   "execution_count": 1,
   "metadata": {},
   "outputs": [],
   "source": [
    "import re\n",
    "import numpy as np\n",
    "import pandas as pd\n",
    "from matplotlib import pyplot as plt\n",
    "import seaborn as sns\n",
    "from scipy.stats import ttest_ind, brunnermunzel"
   ]
  },
  {
   "cell_type": "code",
   "execution_count": 2,
   "metadata": {},
   "outputs": [
    {
     "name": "stderr",
     "output_type": "stream",
     "text": [
      "/mnt/c/Users/alber/Documents/Albert/hackathons/dataopen2019/venv/lib/python3.6/site-packages/IPython/core/interactiveshell.py:3058: DtypeWarning: Columns (7,15,16) have mixed types. Specify dtype option on import or set low_memory=False.\n",
      "  interactivity=interactivity, compiler=compiler, result=result)\n"
     ]
    }
   ],
   "source": [
    "jobs = pd.read_csv('data/job_listings.csv')\n",
    "employment = pd.read_csv('data/employment_by_occupation.csv')\n",
    "labor = pd.read_csv('data/labor_market_statistics.csv')\n",
    "immigrant = pd.read_csv('data/immigrant_statistics.csv')\n",
    "london_stocks = pd.read_csv('data/LSE_historical_data.csv')\n",
    "uk_bills = pd.read_csv('data/UK_bill_data.csv')\n",
    "\n",
    "# legends\n",
    "immigrant_legend = pd.read_csv('data/code_legends/immigrant_legend.csv')\n",
    "labor_legend = pd.read_csv('data/code_legends/labor_market_stats_legend.csv')\n",
    "onet_legend = pd.read_csv('data/code_legends/onet_code_legend.csv')\n",
    "soc_legend = pd.read_csv('data/code_legends/soc_code_legend.csv')"
   ]
  },
  {
   "cell_type": "markdown",
   "metadata": {},
   "source": [
    "### Immigrant by Region"
   ]
  },
  {
   "cell_type": "code",
   "execution_count": 3,
   "metadata": {},
   "outputs": [],
   "source": [
    "immigrant = immigrant.sort_values(['Year', 'Quarter'])"
   ]
  },
  {
   "cell_type": "code",
   "execution_count": 4,
   "metadata": {},
   "outputs": [
    {
     "name": "stdout",
     "output_type": "stream",
     "text": [
      "ACS-BSS\n"
     ]
    }
   ],
   "source": [
    "col_list = list(immigrant)\n",
    "print(col_list[43])  # noting b/c it has non-applicable dates\n",
    "col_list.remove('Year')\n",
    "col_list.remove('Quarter')\n",
    "# for col in col_list:\n",
    "#     res = immigrant[col].map(lambda s: re.sub(r'[a-zA-Z,]', '', str(s)))\n",
    "#     immigrant[col] = res.map(lambda s: '0' if len(s) == 0 else s)\n",
    "immigrant_total = immigrant.fillna(0).astype({col: 'int64' for col in col_list}, )"
   ]
  },
  {
   "cell_type": "code",
   "execution_count": 5,
   "metadata": {},
   "outputs": [],
   "source": [
    "aggregate_regions = [\n",
    "    'AFN',\n",
    "    'AFS',\n",
    "    'AMN',\n",
    "    'ACS',\n",
    "    'ACE',\n",
    "    'AEA',\n",
    "    'ASO',\n",
    "    'ASE',\n",
    "    'EU1',\n",
    "    'EU2',\n",
    "    'EU8',\n",
    "    'EUO',\n",
    "    'ERO',\n",
    "    'MIE',\n",
    "    'OCE',\n",
    "    'OTH',\n",
    "]\n",
    "immi_agg_df = immigrant_total[['Year', 'Quarter', *aggregate_regions]]"
   ]
  },
  {
   "cell_type": "code",
   "execution_count": 6,
   "metadata": {
    "scrolled": true
   },
   "outputs": [],
   "source": [
    "immigrant['Total'] = immi_agg_df[aggregate_regions].sum(axis=1)"
   ]
  },
  {
   "cell_type": "code",
   "execution_count": 7,
   "metadata": {},
   "outputs": [],
   "source": [
    "after_ref_idx = 38  # index for first quarter after referendum passes\n",
    "after_owd_idx = 41  # index for first quarter after official withdrawl process begins"
   ]
  },
  {
   "cell_type": "code",
   "execution_count": 8,
   "metadata": {
    "scrolled": true
   },
   "outputs": [
    {
     "data": {
      "text/plain": [
       "Ttest_indResult(statistic=2.526587649848202, pvalue=0.015103438133696223)"
      ]
     },
     "execution_count": 8,
     "metadata": {},
     "output_type": "execute_result"
    }
   ],
   "source": [
    "total_immigration = immigrant['Total']\n",
    "before_ref = total_immigration[:after_ref_idx]\n",
    "after_ref = total_immigration[after_ref_idx:]\n",
    "\n",
    "ttest_ind(before_ref, after_ref)"
   ]
  },
  {
   "cell_type": "code",
   "execution_count": 9,
   "metadata": {},
   "outputs": [
    {
     "name": "stdout",
     "output_type": "stream",
     "text": [
      "Before referedum mean: 44156.18421052631\n",
      "After referedum mean: 35095.88888888889\n"
     ]
    }
   ],
   "source": [
    "print('Before referedum mean:', np.mean(before_ref))\n",
    "print('After referedum mean:', np.mean(after_ref))"
   ]
  },
  {
   "cell_type": "code",
   "execution_count": 10,
   "metadata": {},
   "outputs": [
    {
     "ename": "NameError",
     "evalue": "name 'significant_drop_idx' is not defined",
     "output_type": "error",
     "traceback": [
      "\u001b[0;31m---------------------------------------------------------------------------\u001b[0m",
      "\u001b[0;31mNameError\u001b[0m                                 Traceback (most recent call last)",
      "\u001b[0;32m<ipython-input-10-d218a791c45e>\u001b[0m in \u001b[0;36m<module>\u001b[0;34m\u001b[0m\n\u001b[1;32m      1\u001b[0m \u001b[0;31m# there is a significant drop in immigration numbers in Q4 2013 - Q1 2014\u001b[0m\u001b[0;34m\u001b[0m\u001b[0;34m\u001b[0m\u001b[0;34m\u001b[0m\u001b[0m\n\u001b[1;32m      2\u001b[0m \u001b[0msignificant_peak_idx\u001b[0m \u001b[0;34m=\u001b[0m \u001b[0;36m28\u001b[0m\u001b[0;34m\u001b[0m\u001b[0;34m\u001b[0m\u001b[0m\n\u001b[0;32m----> 3\u001b[0;31m \u001b[0mttest_ind\u001b[0m\u001b[0;34m(\u001b[0m\u001b[0mtotal_immigration\u001b[0m\u001b[0;34m[\u001b[0m\u001b[0msignificant_drop_idx\u001b[0m\u001b[0;34m:\u001b[0m\u001b[0mafter_ref_idx\u001b[0m\u001b[0;34m]\u001b[0m\u001b[0;34m,\u001b[0m \u001b[0mtotal_immigration\u001b[0m\u001b[0;34m[\u001b[0m\u001b[0mafter_ref_idx\u001b[0m\u001b[0;34m:\u001b[0m\u001b[0;34m]\u001b[0m\u001b[0;34m)\u001b[0m\u001b[0;34m\u001b[0m\u001b[0;34m\u001b[0m\u001b[0m\n\u001b[0m",
      "\u001b[0;31mNameError\u001b[0m: name 'significant_drop_idx' is not defined"
     ]
    }
   ],
   "source": [
    "# there is a significant drop in immigration numbers in Q4 2013 - Q1 2014\n",
    "significant_peak_idx = 28\n",
    "ttest_ind(total_immigration[significant_drop_idx:after_ref_idx], total_immigration[after_ref_idx:])"
   ]
  },
  {
   "cell_type": "code",
   "execution_count": null,
   "metadata": {
    "scrolled": true
   },
   "outputs": [],
   "source": [
    "col_list = list(immigrant)\n",
    "col_list.remove('Year')\n",
    "col_list.remove('Quarter')\n",
    "\n",
    "alpha = 0.05\n",
    "num_tests = 4 * len(col_list)\n",
    "alpha_star = alpha / num_tests\n",
    "\n",
    "# not a modular function lol\n",
    "def ttest_for_drop_immigrant(sep_idx, alpha):\n",
    "    signif_with_peak_regions = []\n",
    "    signif_without_peak_regions = []\n",
    "    for col in col_list:\n",
    "        before = immigrant[col][:sep_idx].dropna()\n",
    "        before_without_peak = immigrant[col][significant_peak_idx:sep_idx].dropna()\n",
    "        after = immigrant[col][sep_idx:].dropna()\n",
    "        \n",
    "        ttest_res = ttest_ind(before, after)\n",
    "        if ttest_res.pvalue < alpha:\n",
    "            signif_with_peak_regions.append(col)\n",
    "        \n",
    "        ttest_res = ttest_ind(before_without_peak, after)\n",
    "        if ttest_res.pvalue < alpha:\n",
    "            signif_without_peak_regions.append(col)\n",
    "    \n",
    "    return signif_with_peak_regions, signif_without_peak_regions\n",
    "\n",
    "signif_with_peak_regions_immigrant_ref, signif_without_peak_regions_immigrant_ref = ttest_for_drop_immigrant(after_ref_idx, alpha_star)\n",
    "signif_with_peak_regions_immigrant_owd, signif_without_peak_regions_immigrant_owd = ttest_for_drop_immigrant(after_owd_idx, alpha_star)\n",
    "\n",
    "print(len(signif_with_peak_regions_immigrant_ref), signif_with_peak_regions_immigrant_ref)\n",
    "print(len(signif_without_peak_regions_immigrant_ref), signif_without_peak_regions_immigrant_ref)\n",
    "\n",
    "print(len(signif_with_peak_regions_immigrant_owd), signif_with_peak_regions_immigrant_owd)\n",
    "print(len(signif_without_peak_regions_immigrant_owd), signif_without_peak_regions_immigrant_owd)"
   ]
  },
  {
   "cell_type": "code",
   "execution_count": null,
   "metadata": {},
   "outputs": [],
   "source": [
    "set(signif_without_peak_regions_immigrant_ref) & set(signif_without_peak_regions_immigrant_owd)"
   ]
  },
  {
   "cell_type": "markdown",
   "metadata": {},
   "source": [
    "### Labor Market Statistics"
   ]
  },
  {
   "cell_type": "code",
   "execution_count": null,
   "metadata": {},
   "outputs": [],
   "source": [
    "stat_prefixes = ['AGO', 'AIW', 'YCB']\n",
    "exact_stats = []\n",
    "# exact_stats = ['YCBF', 'YCBL']\n",
    "relevant_labor_stats = [st for st in list(labor) if any([st.startswith(prefix) for prefix in stat_prefixes]) or any([st == stat for stat in exact_stats])]\n",
    "print(relevant_labor_stats)\n",
    "print(len(relevant_labor_stats))"
   ]
  },
  {
   "cell_type": "code",
   "execution_count": null,
   "metadata": {},
   "outputs": [],
   "source": [
    "labor_quarterly = labor[labor['Month'].map(lambda m: m.startswith('Q'))].reset_index(drop=True)"
   ]
  },
  {
   "cell_type": "code",
   "execution_count": null,
   "metadata": {},
   "outputs": [],
   "source": [
    "# reduce to 2007-2018 time range\n",
    "labor_quarterly = labor_quarterly[24:]"
   ]
  },
  {
   "cell_type": "code",
   "execution_count": null,
   "metadata": {},
   "outputs": [],
   "source": [
    "alpha = 0.05\n",
    "num_tests = 4 * len(relevant_labor_stats)\n",
    "alpha_star = alpha / num_tests\n",
    "\n",
    "# not a modular function lol\n",
    "def ttest_for_drop_labor(sep_idx, alpha):\n",
    "    signif_with_peak_regions = []\n",
    "    signif_without_peak_regions = []\n",
    "    for col in relevant_labor_stats:\n",
    "        before = labor_quarterly[col][:sep_idx].dropna()\n",
    "        before_without_peak = labor_quarterly[col][significant_peak_idx:sep_idx].dropna()\n",
    "        after = labor_quarterly[col][sep_idx:].dropna()\n",
    "        \n",
    "        ttest_res = ttest_ind(before, after)\n",
    "        if ttest_res.pvalue < alpha:\n",
    "            signif_with_peak_regions.append(col)\n",
    "        \n",
    "        ttest_res = ttest_ind(before_without_peak, after)\n",
    "        if ttest_res.pvalue < alpha:\n",
    "            signif_without_peak_regions.append(col)\n",
    "    \n",
    "    return signif_with_peak_regions, signif_without_peak_regions\n",
    "\n",
    "signif_with_peak_regions_labor_ref, signif_without_peak_regions_labor_ref = ttest_for_drop_labor(after_ref_idx, alpha_star)\n",
    "signif_with_peak_regions_labor_owd, signif_without_peak_regions_labor_owd = ttest_for_drop_labor(after_owd_idx, alpha_star)\n",
    "\n",
    "print(len(signif_with_peak_regions_labor_ref), signif_with_peak_regions_labor_ref)\n",
    "print(len(signif_without_peak_regions_labor_ref), signif_without_peak_regions_labor_ref)\n",
    "\n",
    "print(len(signif_with_peak_regions_labor_owd), signif_with_peak_regions_labor_owd)\n",
    "print(len(signif_without_peak_regions_labor_owd), signif_without_peak_regions_labor_owd)"
   ]
  },
  {
   "cell_type": "code",
   "execution_count": null,
   "metadata": {},
   "outputs": [],
   "source": [
    "set(signif_with_peak_regions_labor_ref) & set(signif_with_peak_regions_labor_owd)"
   ]
  },
  {
   "cell_type": "code",
   "execution_count": null,
   "metadata": {
    "scrolled": true
   },
   "outputs": [],
   "source": [
    "set(signif_without_peak_regions_labor_ref) & set(signif_without_peak_regions_labor_owd)"
   ]
  },
  {
   "cell_type": "code",
   "execution_count": null,
   "metadata": {},
   "outputs": [],
   "source": []
  }
 ],
 "metadata": {
  "kernelspec": {
   "display_name": "Python 3",
   "language": "python",
   "name": "python3"
  },
  "language_info": {
   "codemirror_mode": {
    "name": "ipython",
    "version": 3
   },
   "file_extension": ".py",
   "mimetype": "text/x-python",
   "name": "python",
   "nbconvert_exporter": "python",
   "pygments_lexer": "ipython3",
   "version": "3.6.8"
  }
 },
 "nbformat": 4,
 "nbformat_minor": 2
}
