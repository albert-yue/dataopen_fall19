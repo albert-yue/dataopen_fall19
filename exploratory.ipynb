{
 "cells": [
  {
   "cell_type": "code",
   "execution_count": 1,
   "metadata": {},
   "outputs": [],
   "source": [
    "import numpy as np\n",
    "import pandas as pd\n",
    "from matplotlib import pyplot as plt\n",
    "import seaborn as sns"
   ]
  },
  {
   "cell_type": "code",
   "execution_count": 17,
   "metadata": {},
   "outputs": [],
   "source": [
    "jobs = pd.read_csv('data/job_listings.csv')\n",
    "employment = pd.read_csv('data/employment_by_occupation.csv')\n",
    "labor = pd.read_csv('data/labor_market_statistics.csv')\n",
    "immigrant = pd.read_csv('data/immigrant_statistics.csv')\n",
    "london_stocks = pd.read_csv('data/LSE_historical_data.csv')\n",
    "uk_bills = pd.read_csv('data/UK_bill_data.csv')\n",
    "\n",
    "# legends\n",
    "immigrant_legend = pd.read_csv('data/code_legends/immigrant_legend.csv')\n",
    "labor_legend = pd.read_csv('data/code_legends/labor_market_stats_legend.csv')\n",
    "onet_legend = pd.read_csv('data/code_legends/onet_code_legend.csv')\n",
    "soc_legend = pd.read_csv('data/code_legends/soc_code_legend.csv')"
   ]
  },
  {
   "cell_type": "code",
   "execution_count": 15,
   "metadata": {
    "scrolled": true
   },
   "outputs": [
    {
     "name": "stdout",
     "output_type": "stream",
     "text": [
      "<class 'pandas.core.frame.DataFrame'>\n",
      "RangeIndex: 2695577 entries, 0 to 2695576\n",
      "Data columns (total 17 columns):\n",
      "title                     object\n",
      "company_name              object\n",
      "city                      object\n",
      "region                    object\n",
      "zip                       object\n",
      "created                   object\n",
      "last_checked              object\n",
      "last_updated              object\n",
      "delete_date               object\n",
      "onet_occupation_code      object\n",
      "SOC_occupation_code       int64\n",
      "url                       object\n",
      "stock_exchange_country    object\n",
      "stock_exchange_name       object\n",
      "stock_ticker              object\n",
      "ticker_end_date           object\n",
      "ticker_start_date         object\n",
      "dtypes: int64(1), object(16)\n",
      "memory usage: 349.6+ MB\n"
     ]
    }
   ],
   "source": [
    "jobs.info()"
   ]
  },
  {
   "cell_type": "code",
   "execution_count": 16,
   "metadata": {},
   "outputs": [
    {
     "data": {
      "text/plain": [
       "title                     2695577\n",
       "company_name              2695577\n",
       "city                      2342884\n",
       "region                    2218874\n",
       "zip                       1639224\n",
       "created                   2695577\n",
       "last_checked              2695577\n",
       "last_updated               180301\n",
       "delete_date               2638285\n",
       "onet_occupation_code      2695577\n",
       "SOC_occupation_code       2695577\n",
       "url                       2695568\n",
       "stock_exchange_country    2695577\n",
       "stock_exchange_name       2695577\n",
       "stock_ticker              2695577\n",
       "ticker_end_date             66348\n",
       "ticker_start_date         1303149\n",
       "dtype: int64"
      ]
     },
     "execution_count": 16,
     "metadata": {},
     "output_type": "execute_result"
    }
   ],
   "source": [
    "jobs.count()"
   ]
  },
  {
   "cell_type": "code",
   "execution_count": 26,
   "metadata": {},
   "outputs": [
    {
     "data": {
      "text/html": [
       "<div>\n",
       "<style scoped>\n",
       "    .dataframe tbody tr th:only-of-type {\n",
       "        vertical-align: middle;\n",
       "    }\n",
       "\n",
       "    .dataframe tbody tr th {\n",
       "        vertical-align: top;\n",
       "    }\n",
       "\n",
       "    .dataframe thead th {\n",
       "        text-align: right;\n",
       "    }\n",
       "</style>\n",
       "<table border=\"1\" class=\"dataframe\">\n",
       "  <thead>\n",
       "    <tr style=\"text-align: right;\">\n",
       "      <th></th>\n",
       "      <th>act_name</th>\n",
       "      <th>date_of_act</th>\n",
       "      <th>amendment</th>\n",
       "      <th>characters_in_act</th>\n",
       "      <th>words_in_act</th>\n",
       "      <th>link_to_act</th>\n",
       "      <th>act_text</th>\n",
       "    </tr>\n",
       "  </thead>\n",
       "  <tbody>\n",
       "  </tbody>\n",
       "</table>\n",
       "</div>"
      ],
      "text/plain": [
       "Empty DataFrame\n",
       "Columns: [act_name, date_of_act, amendment, characters_in_act, words_in_act, link_to_act, act_text]\n",
       "Index: []"
      ]
     },
     "execution_count": 26,
     "metadata": {},
     "output_type": "execute_result"
    }
   ],
   "source": [
    "uk_bills[uk_bills['act_text'].str.match('Brexit')].head()"
   ]
  },
  {
   "cell_type": "code",
   "execution_count": 29,
   "metadata": {},
   "outputs": [
    {
     "data": {
      "text/plain": [
       "year                        158587\n",
       "month                       158587\n",
       "ticker                      158587\n",
       "list_date                   158230\n",
       "company_name                158587\n",
       "icb_industry                158351\n",
       "icb_supersector             158351\n",
       "country_of_incorporation    158587\n",
       "market_cap                  158587\n",
       "eps                           6755\n",
       "p/e                           6114\n",
       "p/s                           6752\n",
       "dtype: int64"
      ]
     },
     "execution_count": 29,
     "metadata": {},
     "output_type": "execute_result"
    }
   ],
   "source": [
    "london_stocks.count()"
   ]
  },
  {
   "cell_type": "code",
   "execution_count": 38,
   "metadata": {},
   "outputs": [
    {
     "data": {
      "text/plain": [
       "array([2007, 2008, 2009, 2010, 2011, 2012, 2013, 2014, 2015, 2016, 2017,\n",
       "       2018])"
      ]
     },
     "execution_count": 38,
     "metadata": {},
     "output_type": "execute_result"
    }
   ],
   "source": [
    "immigrant['Year'].unique()"
   ]
  }
 ],
 "metadata": {
  "kernelspec": {
   "display_name": "Python 3",
   "language": "python",
   "name": "python3"
  },
  "language_info": {
   "codemirror_mode": {
    "name": "ipython",
    "version": 3
   },
   "file_extension": ".py",
   "mimetype": "text/x-python",
   "name": "python",
   "nbconvert_exporter": "python",
   "pygments_lexer": "ipython3",
   "version": "3.6.8"
  }
 },
 "nbformat": 4,
 "nbformat_minor": 2
}
